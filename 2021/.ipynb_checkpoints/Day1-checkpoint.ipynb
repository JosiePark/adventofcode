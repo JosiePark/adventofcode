{
 "cells": [
  {
   "cell_type": "code",
   "execution_count": null,
   "id": "b8efd7ca",
   "metadata": {},
   "outputs": [],
   "source": [
    "import sys\n",
    "sys.path.append('../')\n",
    "\n",
    "import os\n",
    "from utils import text_file_to_list"
   ]
  },
  {
   "cell_type": "code",
   "execution_count": null,
   "id": "c66f3da1",
   "metadata": {},
   "outputs": [],
   "source": [
    "inputfile = os.path.join('..','data','day1.txt')"
   ]
  },
  {
   "cell_type": "code",
   "execution_count": null,
   "id": "495229a3",
   "metadata": {},
   "outputs": [],
   "source": [
    "data = text_file_to_list(inputfile)"
   ]
  },
  {
   "cell_type": "code",
   "execution_count": null,
   "id": "07860056",
   "metadata": {},
   "outputs": [],
   "source": [
    "output = 0\n",
    "for i in range(1, len(data)):\n",
    "    if data[i] > data[i-1]:\n",
    "        output += 1"
   ]
  },
  {
   "cell_type": "code",
   "execution_count": null,
   "id": "700c706f",
   "metadata": {},
   "outputs": [],
   "source": [
    "output"
   ]
  },
  {
   "cell_type": "code",
   "execution_count": null,
   "id": "239822c2",
   "metadata": {},
   "outputs": [],
   "source": []
  }
 ],
 "metadata": {
  "kernelspec": {
   "display_name": "conda_python3",
   "language": "python",
   "name": "conda_python3"
  },
  "language_info": {
   "codemirror_mode": {
    "name": "ipython",
    "version": 3
   },
   "file_extension": ".py",
   "mimetype": "text/x-python",
   "name": "python",
   "nbconvert_exporter": "python",
   "pygments_lexer": "ipython3",
   "version": "3.6.13"
  }
 },
 "nbformat": 4,
 "nbformat_minor": 5
}
