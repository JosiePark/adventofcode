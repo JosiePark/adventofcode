{
 "cells": [
  {
   "cell_type": "code",
   "execution_count": null,
   "id": "614d01d7",
   "metadata": {},
   "outputs": [],
   "source": [
    "import sys\n",
    "sys.path.append('../')"
   ]
  },
  {
   "cell_type": "code",
   "execution_count": null,
   "id": "17712bba",
   "metadata": {},
   "outputs": [],
   "source": [
    "import os"
   ]
  },
  {
   "cell_type": "code",
   "execution_count": null,
   "id": "0f5e2f2c",
   "metadata": {},
   "outputs": [],
   "source": [
    "from utils import text_file_to_list"
   ]
  },
  {
   "cell_type": "code",
   "execution_count": null,
   "id": "1f734133",
   "metadata": {},
   "outputs": [],
   "source": [
    "inputfile = os.path.join('..','data','day3.txt')"
   ]
  },
  {
   "cell_type": "code",
   "execution_count": null,
   "id": "48aa4c06",
   "metadata": {},
   "outputs": [],
   "source": [
    "data = text_file_to_list(inputfile)"
   ]
  },
  {
   "cell_type": "code",
   "execution_count": null,
   "id": "898905cd",
   "metadata": {},
   "outputs": [],
   "source": [
    "def text_file_to_list(filepath):\n",
    "    \n",
    "    with open(filepath) as f:\n",
    "        data = [row.strip('\\n') for row in f]\n",
    "    return data"
   ]
  },
  {
   "cell_type": "code",
   "execution_count": null,
   "id": "0031a4a9",
   "metadata": {},
   "outputs": [],
   "source": [
    "data = text_file_to_list(inputfile)"
   ]
  },
  {
   "cell_type": "code",
   "execution_count": null,
   "id": "297610fe",
   "metadata": {},
   "outputs": [],
   "source": [
    "result = []\n",
    "for row in data:\n",
    "    count0 = row.count('0')\n",
    "    count1 = row.count('1')\n",
    "    if count0 > count1:\n",
    "        result.append('0')\n",
    "    else:\n",
    "        result.append('1')"
   ]
  },
  {
   "cell_type": "code",
   "execution_count": null,
   "id": "c10d82a5",
   "metadata": {},
   "outputs": [],
   "source": [
    "result = ''.join(result)"
   ]
  },
  {
   "cell_type": "code",
   "execution_count": null,
   "id": "08a69f43",
   "metadata": {},
   "outputs": [],
   "source": [
    "int(result,2)"
   ]
  },
  {
   "cell_type": "code",
   "execution_count": null,
   "id": "8bb0a11e",
   "metadata": {},
   "outputs": [],
   "source": []
  }
 ],
 "metadata": {
  "kernelspec": {
   "display_name": "conda_python3",
   "language": "python",
   "name": "conda_python3"
  },
  "language_info": {
   "codemirror_mode": {
    "name": "ipython",
    "version": 3
   },
   "file_extension": ".py",
   "mimetype": "text/x-python",
   "name": "python",
   "nbconvert_exporter": "python",
   "pygments_lexer": "ipython3",
   "version": "3.6.13"
  }
 },
 "nbformat": 4,
 "nbformat_minor": 5
}
