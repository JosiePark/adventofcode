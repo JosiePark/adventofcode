{
 "cells": [
  {
   "cell_type": "code",
   "execution_count": null,
   "id": "2de3dfcd",
   "metadata": {},
   "outputs": [],
   "source": [
    "import sys\n",
    "sys.path.append('../')"
   ]
  },
  {
   "cell_type": "code",
   "execution_count": null,
   "id": "1e051b96",
   "metadata": {},
   "outputs": [],
   "source": [
    "import os\n",
    "from utils import two_column_to_list"
   ]
  },
  {
   "cell_type": "code",
   "execution_count": null,
   "id": "4904b8e5",
   "metadata": {},
   "outputs": [],
   "source": [
    "inputfile = os.path.join('..','data','day2.txt')"
   ]
  },
  {
   "cell_type": "code",
   "execution_count": null,
   "id": "b4947909",
   "metadata": {},
   "outputs": [],
   "source": [
    "data = two_column_to_list(inputfile)"
   ]
  },
  {
   "cell_type": "code",
   "execution_count": null,
   "id": "7537e516",
   "metadata": {},
   "outputs": [],
   "source": [
    "hor = 0\n",
    "depth = 0\n",
    "\n",
    "for row in data:\n",
    "    if row[0] == 'forward':\n",
    "        hor += row[1]\n",
    "    elif row[0] == 'down':\n",
    "        depth += row[1]\n",
    "    elif row[0] == 'up':\n",
    "        depth -= row[1]"
   ]
  },
  {
   "cell_type": "code",
   "execution_count": null,
   "id": "b04859ff",
   "metadata": {},
   "outputs": [],
   "source": [
    "hor * depth"
   ]
  },
  {
   "cell_type": "code",
   "execution_count": null,
   "id": "7c5d03bd",
   "metadata": {},
   "outputs": [],
   "source": [
    "hor = 0\n",
    "depth = 0\n",
    "aim = 0\n",
    "\n",
    "for row in data:\n",
    "    if row[0] == 'forward':\n",
    "        hor += row[1]\n",
    "        depth += aim*row[1]\n",
    "    elif row[0] == 'down':\n",
    "        aim += row[1]\n",
    "    elif row[0] == 'up':\n",
    "        aim -= row[1]"
   ]
  },
  {
   "cell_type": "code",
   "execution_count": null,
   "id": "7c051067",
   "metadata": {},
   "outputs": [],
   "source": [
    "hor * depth"
   ]
  },
  {
   "cell_type": "code",
   "execution_count": null,
   "id": "5b711ca0",
   "metadata": {},
   "outputs": [],
   "source": []
  }
 ],
 "metadata": {
  "kernelspec": {
   "display_name": "conda_python3",
   "language": "python",
   "name": "conda_python3"
  },
  "language_info": {
   "codemirror_mode": {
    "name": "ipython",
    "version": 3
   },
   "file_extension": ".py",
   "mimetype": "text/x-python",
   "name": "python",
   "nbconvert_exporter": "python",
   "pygments_lexer": "ipython3",
   "version": "3.6.13"
  }
 },
 "nbformat": 4,
 "nbformat_minor": 5
}
