{
 "cells": [
  {
   "cell_type": "code",
   "execution_count": null,
   "id": "35934998",
   "metadata": {},
   "outputs": [],
   "source": [
    "import sys\n",
    "sys.path.append('../')\n",
    "\n",
    "import os\n",
    "from utils import text_file_to_list"
   ]
  },
  {
   "cell_type": "code",
   "execution_count": null,
   "id": "2bf5b9b0",
   "metadata": {},
   "outputs": [],
   "source": [
    "inputfile = os.path.join('..','data','day1.txt')"
   ]
  },
  {
   "cell_type": "code",
   "execution_count": null,
   "id": "ede91291",
   "metadata": {},
   "outputs": [],
   "source": [
    "data = text_file_to_list(inputfile)"
   ]
  },
  {
   "cell_type": "code",
   "execution_count": null,
   "id": "dc1715a3",
   "metadata": {},
   "outputs": [],
   "source": [
    "output = 0\n",
    "for i in range(1, len(data)):\n",
    "    if data[i] > data[i-1]:\n",
    "        output += 1"
   ]
  },
  {
   "cell_type": "code",
   "execution_count": null,
   "id": "668b2e11",
   "metadata": {},
   "outputs": [],
   "source": [
    "output"
   ]
  },
  {
   "cell_type": "code",
   "execution_count": null,
   "id": "403bd5a4",
   "metadata": {},
   "outputs": [],
   "source": [
    "sliding_sum = []\n",
    "output1 = 0\n",
    "for i, x in enumerate(data):\n",
    "    sliding_sum.append(sum(data[i:i+3]))\n",
    "    if (i != 0) and (sliding_sum[i] > sliding_sum[i-1]):\n",
    "        output1 += 1"
   ]
  },
  {
   "cell_type": "code",
   "execution_count": null,
   "id": "b65e4e5e",
   "metadata": {},
   "outputs": [],
   "source": [
    "output1"
   ]
  },
  {
   "cell_type": "code",
   "execution_count": null,
   "id": "1fc35995",
   "metadata": {},
   "outputs": [],
   "source": []
  }
 ],
 "metadata": {
  "kernelspec": {
   "display_name": "conda_python3",
   "language": "python",
   "name": "conda_python3"
  },
  "language_info": {
   "codemirror_mode": {
    "name": "ipython",
    "version": 3
   },
   "file_extension": ".py",
   "mimetype": "text/x-python",
   "name": "python",
   "nbconvert_exporter": "python",
   "pygments_lexer": "ipython3",
   "version": "3.6.13"
  }
 },
 "nbformat": 4,
 "nbformat_minor": 5
}
